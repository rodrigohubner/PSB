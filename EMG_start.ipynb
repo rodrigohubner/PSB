{
 "cells": [
  {
   "cell_type": "markdown",
   "metadata": {},
   "source": [
    "## Definição do *dataset*\n",
    "\n",
    "O *dataset utilizado será o \"TOWARDS LIMB POSITION INVARIANT MYOELECTRIC PATTERN RECOGNITION USING TIME-DEPENDENT SPECTRAL FEATURES\" [1]. Maiores informações podem ser vistas no site: https://www.rami-khushaba.com/electromyogram-emg-repository.html\n",
    "\n",
    "De acordo com a figura seguinte, neste *dataset* existem 5 posições e 8 movimentos. Algumas questões de projetos foram levadas em consideração:\n",
    "1. A primeira posição (P1) possui 40.000 *samples* e todas as outras possuem 20.000 *samples*. Desta forma, a posição 1 foi **excluída** do experimento de teste;\n",
    "2. Cada posição possui 5 tentativas. Desta forma, será utilizada todas as tentativas do mesmo movimento como uma soma total de *samples* (todas as tentativas serão concatenadas);\n",
    "3. Como este experimento resultará em 4 posições e 8 movimentos, será considerado primeiramente um experimento com 32 classes (4 * 8) e um segundo experimento com 8 classes (somando/dispresando as posições do braço).\n",
    "\n",
    "[1] R. N. Khushaba, Maen Takruri, Jaime Valls Miro, and Sarath Kodagoda, \"Towards limb position invariant myoelectric pattern recognition using time-dependent spectral features\", Neural Networks, vol. 55, pp. 42-58, 2014. https://doi.org/10.1016/j.neunet.2014.03.010\n",
    "\n",
    "### Separação das classes"
   ]
  },
  {
   "cell_type": "code",
   "execution_count": 71,
   "metadata": {},
   "outputs": [],
   "source": [
    "from glob import glob\n",
    "\n",
    "# exclusão dos arquivos com \"Pos1\" no nome\n",
    "arquivos = glob(\"datasets/EMG_data/Pos[2-5]*.txt\")\n",
    "# índices para as 32 classes considerando as posições de 2 à 5\n",
    "cl32 = {\n",
    "    \"Pos2_HandOpen\": list(), \"Pos3_HandOpen\": list(), \"Pos4_HandOpen\": list(), \"Pos5_HandOpen\": list(),\n",
    "    \"Pos2_HandRest\": list(), \"Pos3_HandRest\": list(), \"Pos4_HandRest\": list(), \"Pos5_HandRest\": list(),\n",
    "    \"Pos2_ObjectGrip\": list(), \"Pos3_ObjectGrip\": list(), \"Pos4_ObjectGrip\": list(), \"Pos5_ObjectGrip\": list(),\n",
    "    \"Pos2_PichGrip\": list(), \"Pos3_PichGrip\": list(), \"Pos4_PichGrip\": list(), \"Pos5_PichGrip\": list(),\n",
    "    \"Pos2_WristExten\": list(), \"Pos3_WristExten\": list(), \"Pos4_WristExten\": list(), \"Pos5_WristExten\": list(),\n",
    "    \"Pos2_WristFlex\": list(), \"Pos3_WristFlex\": list(), \"Pos4_WristFlex\": list(), \"Pos5_WristFlex\": list(),\n",
    "    \"Pos2_WristPron\": list(), \"Pos3_WristPron\": list(), \"Pos4_WristPron\": list(), \"Pos5_WristPron\": list(),\n",
    "    \"Pos2_WristSupi\": list(), \"Pos3_WristSupi\": list(), \"Pos4_WristSupi\": list(), \"Pos5_WristSupi\": list(),\n",
    "}\n",
    "# índices para as 8 classes desconsiderando as posições de 2 à 5\n",
    "cl08 = {\n",
    "    \"HandOpen\": list(),\n",
    "    \"HandRest\": list(),\n",
    "    \"ObjectGrip\": list(),\n",
    "    \"PichGrip\": list(),\n",
    "    \"WristExten\": list(),\n",
    "    \"WristFlex\": list(),\n",
    "    \"WristPron\": list(),\n",
    "    \"WristSupi\": list(),\n",
    "}"
   ]
  },
  {
   "cell_type": "markdown",
   "metadata": {},
   "source": [
    "## Carregamento do *dataset*\n",
    "\n",
    "Neste trecho de código, todos as amostras serão dividas entre os conjuntos de calsses específicas"
   ]
  },
  {
   "cell_type": "code",
   "execution_count": 72,
   "metadata": {},
   "outputs": [],
   "source": [
    "import re\n",
    "\n",
    "for arquivo in arquivos:\n",
    "    trial_file = open(arquivo)\n",
    "    nome = trial_file.name.split('/')[-1].split('.')[0]\n",
    "    trial = list()\n",
    "    for linha in trial_file.readlines():\n",
    "        # foi necessário substituir os números \"int\" por \"float\"\n",
    "        linha = re.sub(r\"(?<=\\ )(\\d)(?=\\ )\", r\"\\1.0\", linha)\n",
    "        # casamento da linha com 7 pontos (1 para cada eletrodo)\n",
    "        sample = [float(s) for s in re.findall(r\"\\-?\\d\\.\\d+\", linha)]\n",
    "        trial.append(sample)\n",
    "    cl08[\"{}\".format(nome[5:-3])].append(trial)\n",
    "    cl32[\"Pos{}{}\".format(nome[3], nome[4:-3])].append(trial)"
   ]
  },
  {
   "cell_type": "markdown",
   "metadata": {},
   "source": [
    "Agora será realizado a divisão dos dados e suas respectivas classes em sequência, formando dados em `numpy.array` para X1 (dados EMG das 8 classes), y1 (*labels* das 8 classes), X2 (dados EMG das 32 classes), y2 (*labels* das 32 classes)"
   ]
  },
  {
   "cell_type": "code",
   "execution_count": 73,
   "metadata": {},
   "outputs": [
    {
     "name": "stdout",
     "output_type": "stream",
     "text": [
      "(8, 24, 20000, 7)\n",
      "(32, 6, 20000, 7)\n",
      "[0 1 2 3 4 5 6 7]\n",
      "[ 0  8 16 24  1  9 17 25  2 10 18 26  3 11 19 27  4 12 20 28  5 13 21 29\n",
      "  6 14 22 30  7 15 23 31]\n"
     ]
    }
   ],
   "source": [
    "import numpy as np\n",
    "from sklearn.preprocessing import LabelEncoder\n",
    "\n",
    "X1 = np.array(list(cl08.values()))\n",
    "X2 = np.array(list(cl32.values()))\n",
    "# transformando labels categóricos em numéricos\n",
    "le = LabelEncoder()\n",
    "y1 = np.array(le.fit_transform(list(cl08.keys())))\n",
    "y2 = np.array(le.fit_transform(list(cl32.keys())))\n",
    "# shape: [8 classes, 24 trials, 20000 samples, 7 eletrodos]\n",
    "print(X1.shape)\n",
    "# shape: [32 classes, 6 trials, 20000 samples, 7 eletrodos]\n",
    "print(X2.shape)\n",
    "print(y1)\n",
    "print(y2)"
   ]
  },
  {
   "cell_type": "markdown",
   "metadata": {},
   "source": [
    "É necessário inverter os eixos dos \"samples\" e dos \"trials\""
   ]
  },
  {
   "cell_type": "code",
   "execution_count": 74,
   "metadata": {},
   "outputs": [
    {
     "name": "stdout",
     "output_type": "stream",
     "text": [
      "(8, 24, 7, 20000)\n",
      "(32, 6, 7, 20000)\n"
     ]
    }
   ],
   "source": [
    "X1 = X1.swapaxes(2, 3)\n",
    "X2 = X2.swapaxes(2, 3)\n",
    "print(X1.shape)\n",
    "print(X2.shape)"
   ]
  },
  {
   "cell_type": "markdown",
   "metadata": {},
   "source": [
    "## Extração de características\n",
    "\n",
    "Vamos agora aplicar a extração de características dos sinais. A titulo de exemplificação, daqui pra frente iremos trabalhar apenas com os dados com 8 classes (`X1` e `y1`).\n",
    "\n",
    "Serão extraídas 4 características como exemplo. 2 no domímio do tempo (`VAR` e `RMS`) e 2 no domínio da frequência (`FMD` e `MMDF`):\n",
    "* `Variance of EMG (VAR)`: \n",
    "    > $\\frac{1}{N-1}\\sum_{i=1}^{N}x_i^2$\n",
    "* `Root Mean Square (RMS)`:\n",
    "    > $\\sqrt{\\frac{1}{N-1}\\sum_{i=1}^{N}|x_i|^2}$\n",
    "* `Frequency Median (FMD)`:\n",
    "    > $\\frac{1}{2}\\sum_{i=1}^{M}PSD$\n",
    "* `Modified Median Frequency (MMDF)`:\n",
    "    > $\\frac{1}{2}\\sum_{i=1}^{M}A_j$\n",
    "\n",
    "Para a transformação dos dados no domínio da frequência, será utilizado a biblioteca `librosa`.\n",
    "\n",
    "No final, o vetor de características estará organizado da seguinte forma:\n",
    "\n",
    "| ID sample | VAR | RMS | FMD | MMDF | Classe |\n",
    "|:---------:|:---:|:---:|:---:|:----:|:------:|\n",
    "|     1     |  v1 |  v1 |  v1 |  v1  |    0   |\n",
    "|     2     |  v2 |  v2 |  v2 |  v2  |    0   |\n",
    "|    ...    | ... | ... | ... |  ... |   ...  |\n",
    "|     N     |  vN |  vN |  vN |  vN  |    7   |\n",
    "\n",
    "### Segmentação dos dados"
   ]
  },
  {
   "cell_type": "code",
   "execution_count": 134,
   "metadata": {},
   "outputs": [
    {
     "name": "stdout",
     "output_type": "stream",
     "text": [
      "(8, 24, 7, 20000)\n",
      "(8, 24, 7, 40, 1025)\n"
     ]
    }
   ],
   "source": [
    "print(X1.shape)\n",
    "# definição do salto e do tamanho do segmento (segmento - salto = sobreposição)\n",
    "salto = 480\n",
    "segmento = 1025\n",
    "n_win = int((X1.shape[-1] - segmento) / salto) + 1\n",
    "ids = np.arange(n_win) * salto\n",
    "x = np.array([X1[:,:,:,k:(k + segmento)] for k in ids]).transpose(1, 2, 3, 0, 4)\n",
    "print(x.shape)"
   ]
  },
  {
   "cell_type": "markdown",
   "metadata": {},
   "source": [
    "#### Implementação das características no domínio do tempo"
   ]
  },
  {
   "cell_type": "code",
   "execution_count": 150,
   "metadata": {},
   "outputs": [
    {
     "name": "stdout",
     "output_type": "stream",
     "text": [
      "(8, 24, 7, 40)\n",
      "(8, 24, 7, 40)\n"
     ]
    }
   ],
   "source": [
    "# VAR\n",
    "var = np.sum(x ** 2, axis=-1) / (np.prod(x.shape[:-1]) - 1)\n",
    "print(var.shape)\n",
    "# RMS\n",
    "rms = np.sqrt(np.sum(np.abs(x) ** 2, axis=-1) / (np.prod(x.shape[:-1]) - 1))\n",
    "print(rms.shape)"
   ]
  },
  {
   "cell_type": "markdown",
   "metadata": {},
   "source": [
    "#### Transformação para o domínio da frequência"
   ]
  },
  {
   "cell_type": "code",
   "execution_count": 151,
   "metadata": {},
   "outputs": [
    {
     "name": "stdout",
     "output_type": "stream",
     "text": [
      "(8, 24, 7, 40, 1025)\n"
     ]
    }
   ],
   "source": [
    "from librosa import stft\n",
    "\n",
    "# aplicando stft no último eixo de X1 (3), com janela de 2048 e sobreposição de 512\n",
    "w = np.apply_along_axis(stft, 3, X1, n_fft=2048, hop_length=512)\n",
    "w = np.swapaxes(w, 3, 4)\n",
    "print(w.shape)"
   ]
  },
  {
   "cell_type": "markdown",
   "metadata": {},
   "source": [
    "#### Implementação das características no domínio da frequência"
   ]
  },
  {
   "cell_type": "code",
   "execution_count": null,
   "metadata": {},
   "outputs": [],
   "source": [
    "# FMD\n",
    "\n",
    "# MMDF\n"
   ]
  }
 ],
 "metadata": {
  "kernelspec": {
   "display_name": "Python 3",
   "language": "python",
   "name": "python3"
  },
  "language_info": {
   "codemirror_mode": {
    "name": "ipython",
    "version": 3
   },
   "file_extension": ".py",
   "mimetype": "text/x-python",
   "name": "python",
   "nbconvert_exporter": "python",
   "pygments_lexer": "ipython3",
   "version": "3.6.8"
  }
 },
 "nbformat": 4,
 "nbformat_minor": 2
}
