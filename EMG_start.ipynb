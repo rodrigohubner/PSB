{
 "cells": [
  {
   "cell_type": "markdown",
   "metadata": {},
   "source": [
    "## Definição do *dataset*\n",
    "\n",
    "O *dataset utilizado será o \"TOWARDS LIMB POSITION INVARIANT MYOELECTRIC PATTERN RECOGNITION USING TIME-DEPENDENT SPECTRAL FEATURES\" [1]. Maiores informações podem ser vistas no site: https://www.rami-khushaba.com/electromyogram-emg-repository.html\n",
    "\n",
    "De acordo com a figura seguinte, neste *dataset* existem 5 posições e 8 movimentos. Algumas questões de projetos foram levadas em consideração:\n",
    "1. A primeira posição (P1) possui 40.000 *samples* e todas as outras possuem 20.000 *samples*. Desta forma, a posição 1 foi **excluída** do experimento de teste;\n",
    "2. Cada posição possui 5 tentativas. Desta forma, será utilizada todas as tentativas do mesmo movimento como uma soma total de *samples* (todas as tentativas serão concatenadas);\n",
    "3. Como este experimento resultará em 4 posições e 8 movimentos, será considerado primeiramente um experimento com 32 classes (4 * 8) e um segundo experimento com 8 classes (somando/dispresando as posições do braço).\n",
    "\n",
    "[1] R. N. Khushaba, Maen Takruri, Jaime Valls Miro, and Sarath Kodagoda, \"Towards limb position invariant myoelectric pattern recognition using time-dependent spectral features\", Neural Networks, vol. 55, pp. 42-58, 2014. https://doi.org/10.1016/j.neunet.2014.03.010\n",
    "\n",
    "### Separação das classes"
   ]
  },
  {
   "cell_type": "code",
   "execution_count": 30,
   "metadata": {},
   "outputs": [],
   "source": [
    "from glob import glob\n",
    "\n",
    "# exclusão dos arquivos com \"Pos1\" no nome\n",
    "arquivos = glob(\"datasets/EMG_data/Pos[2-5]*.txt\")\n",
    "# índices para as 32 classes considerando as posições de 2 à 5\n",
    "cl32 = {\n",
    "    \"Pos2_HandOpen\": list(), \"Pos3_HandOpen\": list(), \"Pos4_HandOpen\": list(), \"Pos5_HandOpen\": list(),\n",
    "    \"Pos2_HandRest\": list(), \"Pos3_HandRest\": list(), \"Pos4_HandRest\": list(), \"Pos5_HandRest\": list(),\n",
    "    \"Pos2_ObjectGrip\": list(), \"Pos3_ObjectGrip\": list(), \"Pos4_ObjectGrip\": list(), \"Pos5_ObjectGrip\": list(),\n",
    "    \"Pos2_PichGrip\": list(), \"Pos3_PichGrip\": list(), \"Pos4_PichGrip\": list(), \"Pos5_PichGrip\": list(),\n",
    "    \"Pos2_WristExten\": list(), \"Pos3_WristExten\": list(), \"Pos4_WristExten\": list(), \"Pos5_WristExten\": list(),\n",
    "    \"Pos2_WristFlex\": list(), \"Pos3_WristFlex\": list(), \"Pos4_WristFlex\": list(), \"Pos5_WristFlex\": list(),\n",
    "    \"Pos2_WristPron\": list(), \"Pos3_WristPron\": list(), \"Pos4_WristPron\": list(), \"Pos5_WristPron\": list(),\n",
    "    \"Pos2_WristSupi\": list(), \"Pos3_WristSupi\": list(), \"Pos4_WristSupi\": list(), \"Pos5_WristSupi\": list(),\n",
    "}\n",
    "# índices para as 8 classes desconsiderando as posições de 2 à 5\n",
    "cl08 = {\n",
    "    \"HandOpen\": list(),\n",
    "    \"HandRest\": list(),\n",
    "    \"ObjectGrip\": list(),\n",
    "    \"PichGrip\": list(),\n",
    "    \"WristExten\": list(),\n",
    "    \"WristFlex\": list(),\n",
    "    \"WristPron\": list(),\n",
    "    \"WristSupi\": list(),\n",
    "}"
   ]
  },
  {
   "cell_type": "markdown",
   "metadata": {},
   "source": [
    "## Carregamento do *dataset*\n",
    "\n",
    "Neste trecho de código, todos as amostras serão dividas entre os conjuntos de calsses específicas"
   ]
  },
  {
   "cell_type": "code",
   "execution_count": 31,
   "metadata": {},
   "outputs": [],
   "source": [
    "import re\n",
    "\n",
    "for arquivo in arquivos:\n",
    "    trial_file = open(arquivo)\n",
    "    nome = trial_file.name.split('/')[-1].split('.')[0]\n",
    "    trial = list()\n",
    "    for linha in trial_file.readlines():\n",
    "        # foi necessário substituir os números \"int\" por \"float\"\n",
    "        linha = re.sub(r\"(?<=\\ )(\\d)(?=\\ )\", r\"\\1.0\", linha)\n",
    "        # casamento da linha com 7 pontos (1 para cada eletrodo)\n",
    "        sample = [float(s) for s in re.findall(r\"\\-?\\d\\.\\d+\", linha)]\n",
    "        trial.append(sample)\n",
    "    cl08[\"{}\".format(nome[5:-3])].append(trial)\n",
    "    cl32[\"Pos{}{}\".format(nome[3], nome[4:-3])].append(trial)"
   ]
  },
  {
   "cell_type": "markdown",
   "metadata": {},
   "source": [
    "Agora será realizado a divisão dos dados e suas respectivas classes em sequência, formando dados em `numpy.array` para X1 (dados EMG das 8 classes), y1 (*labels* das 8 classes), X2 (dados EMG das 32 classes), y2 (*labels* das 32 classes)"
   ]
  },
  {
   "cell_type": "code",
   "execution_count": 32,
   "metadata": {},
   "outputs": [
    {
     "name": "stdout",
     "output_type": "stream",
     "text": [
      "(8, 24, 20000, 7)\n",
      "(32, 6, 20000, 7)\n",
      "[0 1 2 3 4 5 6 7]\n",
      "[ 0  8 16 24  1  9 17 25  2 10 18 26  3 11 19 27  4 12 20 28  5 13 21 29\n",
      "  6 14 22 30  7 15 23 31]\n"
     ]
    }
   ],
   "source": [
    "import numpy as np\n",
    "from sklearn.preprocessing import LabelEncoder\n",
    "\n",
    "X1 = np.array(list(cl08.values()))\n",
    "X2 = np.array(list(cl32.values()))\n",
    "# transformando labels categóricos em numéricos\n",
    "le = LabelEncoder()\n",
    "y1 = np.array(le.fit_transform(list(cl08.keys())))\n",
    "y2 = np.array(le.fit_transform(list(cl32.keys())))\n",
    "# shape: [8 classes, 24 trials, 20000 samples, 7 eletrodos]\n",
    "print(X1.shape)\n",
    "# shape: [32 classes, 6 trials, 20000 samples, 7 eletrodos]\n",
    "print(X2.shape)\n",
    "print(y1)\n",
    "print(y2)"
   ]
  },
  {
   "cell_type": "markdown",
   "metadata": {},
   "source": [
    "É necessário inverter os eixos dos \"samples\" e dos \"eletrodos\""
   ]
  },
  {
   "cell_type": "code",
   "execution_count": 33,
   "metadata": {},
   "outputs": [
    {
     "name": "stdout",
     "output_type": "stream",
     "text": [
      "(8, 24, 7, 20000)\n",
      "(32, 6, 7, 20000)\n"
     ]
    }
   ],
   "source": [
    "X1 = X1.swapaxes(2, 3)\n",
    "X2 = X2.swapaxes(2, 3)\n",
    "print(X1.shape)\n",
    "print(X2.shape)"
   ]
  },
  {
   "cell_type": "markdown",
   "metadata": {},
   "source": [
    "## Extração de características\n",
    "\n",
    "Vamos agora aplicar a extração de características dos sinais. A titulo de exemplificação, daqui pra frente iremos trabalhar apenas com os dados com 8 classes (`X1` e `y1`).\n",
    "\n",
    "Serão extraídas 4 características de cada eletrodo como exemplo. 2 no domímio do tempo (`VAR` e `RMS`) e 2 no domínio da frequência (`FMD` e `MMDF`):\n",
    "* `Variance of EMG (VAR)`: \n",
    "    > $\\frac{1}{N-1}\\sum_{i=1}^{N}x_i^2$\n",
    "* `Root Mean Square (RMS)`:\n",
    "    > $\\sqrt{\\frac{1}{N-1}\\sum_{i=1}^{N}|x_i|^2}$\n",
    "* `Frequency Median (FMD)`:\n",
    "    > $\\frac{1}{2}\\sum_{i=1}^{M}PSD$\n",
    "* `Modified Median Frequency (MMDF)`:\n",
    "    > $\\frac{1}{2}\\sum_{i=1}^{M}A_j$\n",
    "\n",
    "Para a transformação dos dados no domínio da frequência, será utilizado a biblioteca `librosa`.\n",
    "\n",
    "No final, o vetor de características estará organizado da seguinte forma:\n",
    "\n",
    "| ID sample | VAR1 | RMS1 | FMD1 | MMDF1 | VAR2 | RMS2 | FMD2 | MMDF2 | ... | MMDF8 | Classe |\n",
    "|:---------:|:----:|:----:|:----:|:-----:|------|------|------|-------|-----|-------|:------:|\n",
    "|     1     |  v1  |  v1  |  v1  |   v1  | v1   | v1   | v1   | v1    | v1  | v1    |    0   |\n",
    "|     2     |  v2  |  v2  |  v2  |   v2  | v2   | v2   | v2   | v2    | v2  | v2    |    0   |\n",
    "|    ...    |  ... |  ... |  ... |  ...  | ...  | ...  | ...  | ...   | ... | ...   |   ...  |\n",
    "|     N     |  vN  |  vN  |  vN  |   vN  | vN   | vN   | vN   | vN    | vN  | vN    |    7   |\n",
    "\n",
    "### Segmentação dos dados"
   ]
  },
  {
   "cell_type": "code",
   "execution_count": 64,
   "metadata": {},
   "outputs": [
    {
     "name": "stdout",
     "output_type": "stream",
     "text": [
      "(8, 24, 7, 20000)\n",
      "(8, 24, 7, 41, 1024)\n"
     ]
    }
   ],
   "source": [
    "print(X1.shape)\n",
    "# definição do salto e do tamanho do segmento (segmento - salto = sobreposição)\n",
    "salto = 470\n",
    "segmento = 1024\n",
    "n_win = int((X1.shape[-1] - segmento) / salto) + 1\n",
    "ids = np.arange(n_win) * salto\n",
    "x = np.array([X1[:,:,:,k:(k + segmento)] for k in ids]).transpose(1, 2, 3, 0, 4)\n",
    "print(x.shape)"
   ]
  },
  {
   "cell_type": "markdown",
   "metadata": {},
   "source": [
    "### Implementação das características no domínio do tempo"
   ]
  },
  {
   "cell_type": "code",
   "execution_count": 90,
   "metadata": {},
   "outputs": [
    {
     "name": "stdout",
     "output_type": "stream",
     "text": [
      "(8, 24, 7, 41)\n",
      "(8, 24, 7, 41)\n"
     ]
    }
   ],
   "source": [
    "# VAR\n",
    "var = np.sum(x ** 2, axis=-1) / (np.prod(x.shape[:-1]) - 1)\n",
    "print(var.shape)\n",
    "# RMS\n",
    "rms = np.sqrt(np.sum(np.abs(x) ** 2, axis=-1) / (np.prod(x.shape[:-1]) - 1))\n",
    "print(rms.shape)"
   ]
  },
  {
   "cell_type": "markdown",
   "metadata": {},
   "source": [
    "#### Transformação para o domínio da frequência"
   ]
  },
  {
   "cell_type": "code",
   "execution_count": 91,
   "metadata": {},
   "outputs": [
    {
     "name": "stdout",
     "output_type": "stream",
     "text": [
      "(8, 24, 7, 20000)\n",
      "(8, 24, 7, 41, 513)\n"
     ]
    }
   ],
   "source": [
    "# from librosa import stft\n",
    "\n",
    "# aplicando stft no último eixo de X1 (3), com janela de 2048 e sobreposição de 512\n",
    "# w = np.apply_along_axis(stft, 3, X1, n_fft=2048, hop_length=512)\n",
    "# w = np.swapaxes(w, 3, 4)\n",
    "\n",
    "from scipy.signal import stft\n",
    "\n",
    "print(X1.shape)\n",
    "_, _, w = stft(X1, fs=4000, nperseg=1024, noverlap=512)\n",
    "w = np.swapaxes(w, 3, 4)\n",
    "print(w.shape)"
   ]
  },
  {
   "cell_type": "markdown",
   "metadata": {},
   "source": [
    "### Implementação das características no domínio da frequência"
   ]
  },
  {
   "cell_type": "code",
   "execution_count": 92,
   "metadata": {},
   "outputs": [
    {
     "name": "stdout",
     "output_type": "stream",
     "text": [
      "(8, 24, 7, 41)\n",
      "(8, 24, 7, 41)\n"
     ]
    }
   ],
   "source": [
    "# definição da função PSD para o sinal no domínio da frequência\n",
    "def PSD(x):\n",
    "    return np.sqrt(np.abs(x))\n",
    "\n",
    "# FMD\n",
    "fmd = np.sum(PSD(w), axis=-1) / 2\n",
    "print(fmd.shape)\n",
    "# MMDF\n",
    "mmdf = np.sum(np.abs(w), axis=-1) / 2\n",
    "print(mmdf.shape)"
   ]
  },
  {
   "cell_type": "markdown",
   "metadata": {},
   "source": [
    "Agora é necessesário realizar algumas mudanças na disposição dos dados para que o vetor de características fique da forma como foi mencionado anteriormente.\n",
    "\n",
    "O vetor de características deve ser bidimensional (samples, features) para entrar como parâmetro de dados no classificador.\n",
    "\n",
    "#### Criação do vetor de características"
   ]
  },
  {
   "cell_type": "code",
   "execution_count": 93,
   "metadata": {},
   "outputs": [
    {
     "name": "stdout",
     "output_type": "stream",
     "text": [
      "Feature: [[3.32672701e-05 2.18137582e-05 3.68548167e-03 ... 5.22328989e-03\n",
      "  1.24049636e-04 3.18158393e-05]\n",
      " [3.18581240e-05 1.66211906e-05 2.52739411e-03 ... 6.29495037e-03\n",
      "  1.18988996e-04 2.41488434e-05]\n",
      " [2.48037266e-05 1.27430402e-05 1.75369706e-03 ... 7.61754319e-03\n",
      "  1.21221466e-04 2.48292863e-05]\n",
      " ...\n",
      " [2.89127766e-05 1.40552334e-04 6.04504845e-03 ... 1.73190118e-03\n",
      "  4.51963502e-04 8.46710804e-05]\n",
      " [3.10607639e-05 1.71067574e-04 7.03700296e-03 ... 1.77984168e-03\n",
      "  4.58224891e-04 8.56156497e-05]\n",
      " [2.18737747e-05 1.46657270e-04 8.24495656e-03 ... 1.92052715e-03\n",
      "  6.70711832e-05 1.90495150e-05]] (7872, 7)\n",
      "Feature: [[0.00576778 0.00467052 0.06070817 ... 0.07227233 0.01113776 0.00564055]\n",
      " [0.0056443  0.00407691 0.05027319 ... 0.07934072 0.01090821 0.00491415]\n",
      " [0.00498033 0.00356974 0.04187717 ... 0.08727854 0.01101006 0.0049829 ]\n",
      " ...\n",
      " [0.00537706 0.01185548 0.07774991 ... 0.04161612 0.02125943 0.00920169]\n",
      " [0.00557322 0.01307928 0.08388685 ... 0.04218817 0.02140619 0.00925287]\n",
      " [0.00467694 0.01211021 0.09080174 ... 0.04382382 0.0081897  0.00436458]] (7872, 7)\n",
      "Feature: [[ 3.89304338  3.81661507 11.62387647 ... 11.6892824   4.73168785\n",
      "   3.77464986]\n",
      " [ 4.23581857  3.76113247 11.74710686 ... 12.51679463  5.47547272\n",
      "   4.0400884 ]\n",
      " [ 4.19507919  3.79447782 11.11430133 ... 13.11854412  4.95019977\n",
      "   3.85212595]\n",
      " ...\n",
      " [ 4.08162236  6.01908045 15.13551939 ...  9.06962796  4.60565836\n",
      "   3.79465586]\n",
      " [ 3.61309158  5.36457581 16.47597251 ... 10.97018662  4.11351224\n",
      "   3.14269209]\n",
      " [ 0.14849466  0.22769764  0.97562664 ...  0.65122292  0.1766844\n",
      "   0.15589806]] (7872, 7)\n",
      "Feature: [[1.25779128e-01 1.32470151e-01 1.58213405e+00 ... 1.51243370e+00\n",
      "  2.38749308e-01 1.37933701e-01]\n",
      " [1.81277129e-01 1.38649992e-01 1.70180416e+00 ... 2.07771383e+00\n",
      "  3.52185562e-01 1.64048633e-01]\n",
      " [1.68194975e-01 1.34994486e-01 1.50717519e+00 ... 2.29555974e+00\n",
      "  2.75819280e-01 1.39868205e-01]\n",
      " ...\n",
      " [1.60086284e-01 3.94963201e-01 2.77265956e+00 ... 1.06294932e+00\n",
      "  2.25309116e-01 1.31492078e-01]\n",
      " [1.13702005e-01 3.02236556e-01 2.19583247e+00 ... 9.71301962e-01\n",
      "  1.63892983e-01 8.71326007e-02]\n",
      " [1.16066859e-04 3.41434972e-04 5.08623778e-03 ... 1.88684817e-03\n",
      "  1.76866486e-04 1.91395770e-04]] (7872, 7)\n"
     ]
    },
    {
     "data": {
      "text/plain": [
       "(7872, 28)"
      ]
     },
     "execution_count": 93,
     "metadata": {},
     "output_type": "execute_result"
    }
   ],
   "source": [
    "features = list()\n",
    "for feature in (var, rms, fmd, mmdf):\n",
    "    feature = feature.transpose(0, 1, 3, 2)\n",
    "    feature = feature.reshape(8 * 24 * 41, 7)\n",
    "    print('Feature: {}'.format(feature), feature.shape)\n",
    "    features.append(feature)\n",
    "\n",
    "X = np.concatenate(features, axis=-1)\n",
    "X.shape"
   ]
  },
  {
   "cell_type": "markdown",
   "metadata": {},
   "source": [
    "#### Criação do vetor de labels"
   ]
  },
  {
   "cell_type": "code",
   "execution_count": 102,
   "metadata": {},
   "outputs": [
    {
     "data": {
      "text/plain": [
       "(7872,)"
      ]
     },
     "execution_count": 102,
     "metadata": {},
     "output_type": "execute_result"
    }
   ],
   "source": [
    "y = np.array([[str(i)] * int(X.shape[0] / 8) for i in range(8)])\n",
    "y = y.reshape(y.shape[0] * y.shape[1])\n",
    "y.shape"
   ]
  },
  {
   "cell_type": "markdown",
   "metadata": {},
   "source": [
    "Agora é realizado a parte de classificação.\n",
    "\n",
    "O classificador `SVM` da biblioteca `scikit-learn` possui diversos modelos de classificação utilizando máquinas de vetores de suporte. As mais comuns são a `SVC` para aplicar modelos de classificação e a `SVR` para modelos de regressão linear. Para este caso, vamos utilizar o `SVC`.\n",
    "\n",
    "### Aplicação do classificador SVM"
   ]
  },
  {
   "cell_type": "code",
   "execution_count": 113,
   "metadata": {},
   "outputs": [
    {
     "data": {
      "text/plain": [
       "SVC(C=1.0, cache_size=200, class_weight=None, coef0=0.0,\n",
       "    decision_function_shape='ovr', degree=3, gamma='auto', kernel='rbf',\n",
       "    max_iter=-1, probability=False, random_state=None, shrinking=True,\n",
       "    tol=0.001, verbose=False)"
      ]
     },
     "execution_count": 113,
     "metadata": {},
     "output_type": "execute_result"
    }
   ],
   "source": [
    "from sklearn.model_selection import train_test_split\n",
    "from sklearn.svm import SVC\n",
    "\n",
    "# dividindo as porções de dados em treino e teste (70 e 30% respectivamente)\n",
    "X_train, X_test, y_train, y_test = train_test_split(X, y, test_size=0.3, shuffle=True)\n",
    "\n",
    "# o trabalho das diferentes parametrizações ficam a cargo dos alunos\n",
    "clf = SVC(gamma='auto')\n",
    "clf.fit(X_train, y_train)"
   ]
  },
  {
   "cell_type": "markdown",
   "metadata": {},
   "source": [
    "#### Criando a rotina simples de teste"
   ]
  },
  {
   "cell_type": "code",
   "execution_count": 117,
   "metadata": {},
   "outputs": [
    {
     "name": "stdout",
     "output_type": "stream",
     "text": [
      "Acurácia: 94.71%\n"
     ]
    }
   ],
   "source": [
    "res = clf.predict(X_test)\n",
    "tot_hit = sum([1 for i in range(len(res)) if res[i] == y_test[i]])\n",
    "print('Acurácia: {:.2f}%'.format(tot_hit / X_test.shape[0] * 100))"
   ]
  },
  {
   "cell_type": "code",
   "execution_count": null,
   "metadata": {},
   "outputs": [],
   "source": []
  }
 ],
 "metadata": {
  "kernelspec": {
   "display_name": "Python 3",
   "language": "python",
   "name": "python3"
  },
  "language_info": {
   "codemirror_mode": {
    "name": "ipython",
    "version": 3
   },
   "file_extension": ".py",
   "mimetype": "text/x-python",
   "name": "python",
   "nbconvert_exporter": "python",
   "pygments_lexer": "ipython3",
   "version": "3.6.8"
  }
 },
 "nbformat": 4,
 "nbformat_minor": 2
}
